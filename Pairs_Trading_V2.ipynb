{
  "nbformat": 4,
  "nbformat_minor": 0,
  "metadata": {
    "colab": {
      "name": "Pairs Trading V2.ipynb",
      "provenance": [],
      "collapsed_sections": [],
      "authorship_tag": "ABX9TyNnxmnvgyY5s8J7unbjmEHa",
      "include_colab_link": true
    },
    "kernelspec": {
      "name": "python3",
      "display_name": "Python 3"
    },
    "language_info": {
      "name": "python"
    }
  },
  "cells": [
    {
      "cell_type": "markdown",
      "metadata": {
        "id": "view-in-github",
        "colab_type": "text"
      },
      "source": [
        "<a href=\"https://colab.research.google.com/github/timbyles/ASX-Cointegration/blob/main/Pairs_Trading_V2.ipynb\" target=\"_parent\"><img src=\"https://colab.research.google.com/assets/colab-badge.svg\" alt=\"Open In Colab\"/></a>"
      ]
    },
    {
      "cell_type": "code",
      "metadata": {
        "id": "XvhlkBx9MtLz"
      },
      "source": [
        "pip install yfinance"
      ],
      "execution_count": null,
      "outputs": []
    },
    {
      "cell_type": "code",
      "metadata": {
        "id": "w8VSWERlkvIu"
      },
      "source": [
        "import pandas as pd\n",
        "import yfinance as yf\n",
        "import numpy as np\n",
        "import statsmodels\n",
        "import statsmodels.api as sm\n",
        "import math\n",
        "import random\n",
        "from statsmodels.tsa.stattools import coint"
      ],
      "execution_count": 202,
      "outputs": []
    },
    {
      "cell_type": "code",
      "metadata": {
        "id": "NqU15qgzK2wQ"
      },
      "source": [
        "# Pull ASX data from github file. Note: ASX300 data current as of 16/09/2021.\n",
        "url = 'https://raw.githubusercontent.com/timbyles/ASX-Cointegration/main/ASX300.csv'\n",
        "df = pd.read_csv(url)\n",
        "\n",
        "# Converts tickers to list\n",
        "tickers = df[\"Code\"].tolist()\n",
        "\n",
        "# Concatenates tickers with .ax in order to be suitable for yfinance\n",
        "for index,code in enumerate(tickers):\n",
        "  tickers[index] = code + '.ax'"
      ],
      "execution_count": 203,
      "outputs": []
    },
    {
      "cell_type": "code",
      "metadata": {
        "id": "qT9m2yD5MrTf"
      },
      "source": [
        "# Pulls data from yfinance\n",
        "data = yf.download(tickers, start=\"2018-01-01\", end=\"2019-01-1\")"
      ],
      "execution_count": null,
      "outputs": []
    },
    {
      "cell_type": "code",
      "metadata": {
        "id": "gskj47EUX0WI"
      },
      "source": [
        "# Takes the close prices of our data\n",
        "data_close = data[\"Close\"]\n",
        "\n",
        "# Creates an empty dictionary to count exists of 'NaN'\n",
        "nan_dict = {}\n",
        "\n",
        "# Loop through dataframe to find which ticker sybomls have a NaN value.\n",
        "for index, row in data_close.iteritems():\n",
        "  for i in row:\n",
        "    if np.isnan(i) == True:\n",
        "      nan_dict[index] = 1\n",
        "\n",
        "# Removes columns with NaN value\n",
        "for key in nan_dict:\n",
        "  data_close = data_close.drop(key, 1)"
      ],
      "execution_count": 205,
      "outputs": []
    },
    {
      "cell_type": "code",
      "metadata": {
        "id": "Hme2BqsIWwzV"
      },
      "source": [
        "# Looks for cointegrated pairs\n",
        "\n",
        "def find_cointegrated_pairs(data):\n",
        "    \n",
        "    # Creates matrices based of the number of stocks\n",
        "    n = data.shape[1]\n",
        "    score_matrix = np.zeros((n, n))\n",
        "    pvalue_matrix = np.ones((n, n))\n",
        "    keys = data.keys()\n",
        "    pairs = []\n",
        "    for i in range(n):\n",
        "        for j in range(i+1, n):\n",
        "            S1 = data[keys[i]]\n",
        "            S2 = data[keys[j]]\n",
        "            result = coint(S1, S2)\n",
        "            score = result[0]\n",
        "            pvalue = result[1]\n",
        "            score_matrix[i, j] = score\n",
        "            pvalue_matrix[i, j] = pvalue\n",
        "            if pvalue < 0.05:\n",
        "                pairs.append((keys[i], keys[j]))\n",
        "    return score_matrix, pvalue_matrix, pairs"
      ],
      "execution_count": 209,
      "outputs": []
    },
    {
      "cell_type": "code",
      "metadata": {
        "id": "hXYyxN9MqI6R"
      },
      "source": [
        "# To save computational time, we can generate sample amount of stocks at random to test for cointegration.\n",
        "# This also prevents us from over sample choice bias?\n",
        "\n",
        "sample = 10\n",
        "random_index = []\n",
        "i = 0\n",
        "\n",
        "while i < 10:\n",
        "  rand_int = random.randint(0, data_close.shape[1])\n",
        "  if rand_int not in random_index:\n",
        "    random_index.append(rand_int)\n",
        "    i += 1\n",
        "\n",
        "data_close_random = pd.DataFrame()\n",
        "\n",
        "for r in random_index:\n",
        "  temp_df = data_close.iloc[:, r]\n",
        "  data_close_random = pd.concat([data_close_random, temp_df], axis=1)"
      ],
      "execution_count": 207,
      "outputs": []
    },
    {
      "cell_type": "code",
      "metadata": {
        "id": "M-rktXvVXr14",
        "colab": {
          "base_uri": "https://localhost:8080/"
        },
        "outputId": "a81dd536-93d4-4906-c2c4-1bcbc3b7fa74"
      },
      "source": [
        "scores, pvalues, pairs = find_cointegrated_pairs(data_close_random)\n",
        "\n",
        "print(pairs)"
      ],
      "execution_count": 208,
      "outputs": [
        {
          "output_type": "stream",
          "name": "stdout",
          "text": [
            "[('TAH.AX', 'WHC.AX'), ('ARF.AX', 'DXS.AX')]\n"
          ]
        }
      ]
    }
  ]
}